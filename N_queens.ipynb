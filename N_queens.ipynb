{
  "nbformat": 4,
  "nbformat_minor": 0,
  "metadata": {
    "colab": {
      "provenance": [],
      "authorship_tag": "ABX9TyPuBfUHi/5ZOJVPrXnpOd8E",
      "include_colab_link": true
    },
    "kernelspec": {
      "name": "python3",
      "display_name": "Python 3"
    },
    "language_info": {
      "name": "python"
    }
  },
  "cells": [
    {
      "cell_type": "markdown",
      "metadata": {
        "id": "view-in-github",
        "colab_type": "text"
      },
      "source": [
        "<a href=\"https://colab.research.google.com/github/jaya-shankar/n_queens/blob/master/N_queens.ipynb\" target=\"_parent\"><img src=\"https://colab.research.google.com/assets/colab-badge.svg\" alt=\"Open In Colab\"/></a>"
      ]
    },
    {
      "cell_type": "code",
      "source": [
        "import time\n",
        "from multiprocessing import Process\n",
        "import matplotlib.pyplot as plt"
      ],
      "metadata": {
        "id": "InmtOT3esLc-"
      },
      "execution_count": 8,
      "outputs": []
    },
    {
      "cell_type": "code",
      "execution_count": null,
      "metadata": {
        "id": "K3YIw6BTrgwJ"
      },
      "outputs": [],
      "source": [
        "for s in range(4,12):\n",
        "  size = s\n",
        "  # print_solutions = input('Do you want the solutions to be printed (Y/N): ').lower() == 'y'\n",
        "  print_solutions = False\n",
        "  n_queens = NQueens(size)\n",
        "  runInParallel(n_queens.solve_dfs(), n_queens.solve_bfs())"
      ]
    },
    {
      "cell_type": "code",
      "source": [
        "plt.plot(NQueens.Sizes,NQueens.Bfs_points)\n",
        "plt.plot(NQueens.Sizes,NQueens.Dfs_points)\n",
        "plt.legend(['BFS', 'DFS'])\n",
        "plt.xlabel('No of Queens')\n",
        "plt.ylabel('Time (seconds)')\n",
        "plt.show()"
      ],
      "metadata": {
        "colab": {
          "base_uri": "https://localhost:8080/",
          "height": 279
        },
        "id": "GZdosp98rqn6",
        "outputId": "760e9e59-1e56-400d-9b80-7caeaed78b20"
      },
      "execution_count": 18,
      "outputs": [
        {
          "output_type": "display_data",
          "data": {
            "text/plain": [
              "<Figure size 432x288 with 1 Axes>"
            ],
            "image/png": "[encoded data removed]"
          },
          "metadata": {
            "needs_background": "light"
          }
        }
      ]
    },
    {
      "cell_type": "code",
      "source": [
        "def runInParallel(*fns):\n",
        "  proc = []\n",
        "  for fn in fns:\n",
        "    p = Process(target=fn)\n",
        "    p.start()\n",
        "    proc.append(p)\n",
        "  for p in proc:\n",
        "    p.join()"
      ],
      "metadata": {
        "id": "uYCe8XdrvMFH"
      },
      "execution_count": 11,
      "outputs": []
    },
    {
      "cell_type": "code",
      "source": [
        "from queue import Queue\n",
        "\n",
        "\n",
        "class NQueens:\n",
        "\n",
        "    Bfs_points = []\n",
        "    Dfs_points = []\n",
        "    Sizes = []\n",
        "    def __init__(self, size):\n",
        "      self.Sizes.append(size)\n",
        "      self.size = size\n",
        "\n",
        "    def solve_dfs(self):\n",
        "        time_start = time.time()\n",
        "        if self.size < 1:\n",
        "            return 0\n",
        "\n",
        "        solutions = []\n",
        "        stack = [[]]\n",
        "        while stack:\n",
        "            solution = stack.pop()\n",
        "            if self.conflict(solution):\n",
        "                continue\n",
        "            row = len(solution)\n",
        "            if row == self.size:\n",
        "                solutions.append(solution)\n",
        "                continue\n",
        "            for col in range(self.size):\n",
        "                queen = (row, col)\n",
        "                queens = solution.copy()\n",
        "                queens.append(queen)\n",
        "                stack.append(queens)\n",
        "        time_end = time.time()\n",
        "        total_dfs_time = time_end - time_start\n",
        "        print(\"Size of board: %d\" % self.size)  \n",
        "        print('Total time taken for DFS solutions: %f' % total_dfs_time)\n",
        "        self.Dfs_points.append( total_dfs_time)\n",
        "        # return time_end - time_start\n",
        "\n",
        "    def solve_bfs(self):\n",
        "        time_start = time.time()\n",
        "        if self.size < 1:\n",
        "            return 0\n",
        "        solutions = []\n",
        "        queue = Queue()\n",
        "        queue.put([])\n",
        "        while not queue.empty():\n",
        "            solution = queue.get()\n",
        "            if self.conflict(solution):\n",
        "                continue\n",
        "            row = len(solution)\n",
        "            if row == self.size:\n",
        "                solutions.append(solution)\n",
        "                continue\n",
        "            for col in range(self.size):\n",
        "                queen = (row, col)\n",
        "                queens = solution.copy()\n",
        "                queens.append(queen)\n",
        "                queue.put(queens)\n",
        "        time_end = time.time()\n",
        "        total_bfs_time = time_end - time_start\n",
        "        print(\"Size of board: %d\" % self.size)  \n",
        "        print('Total time taken for BFS solutions: %f' % total_bfs_time)\n",
        "        self.Bfs_points.append(total_bfs_time)\n",
        "        # return time_end - time_start\n",
        "\n",
        "    def conflict(self, queens):\n",
        "        for i in range(1, len(queens)):\n",
        "            for j in range(0, i):\n",
        "                a, b = queens[i]\n",
        "                c, d = queens[j]\n",
        "                if a == c or b == d or abs(a - c) == abs(b - d):\n",
        "                    return True\n",
        "        return False\n",
        "\n",
        "    def print(self, queens):\n",
        "        for i in range(self.size):\n",
        "            print(' ---' * self.size)\n",
        "            for j in range(self.size):\n",
        "                p = 'Q' if (i, j) in queens else ' '\n",
        "                print('| %s ' % p, end='')\n",
        "            print('|')\n",
        "        print(' ---' * self.size)\n"
      ],
      "metadata": {
        "id": "YklUhBIesGj3"
      },
      "execution_count": 10,
      "outputs": []
    }
  ]
}